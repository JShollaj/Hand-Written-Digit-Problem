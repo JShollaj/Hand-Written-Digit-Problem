{
 "cells": [
  {
   "cell_type": "markdown",
   "id": "6c331b16-ef0d-41ef-be4e-b43cb80ac9bd",
   "metadata": {},
   "source": [
    "## Model Building"
   ]
  },
  {
   "cell_type": "markdown",
   "id": "a5bf9ace-ece7-4380-acb1-df209e0a8688",
   "metadata": {},
   "source": [
    "### Hand Written Digit Problem"
   ]
  },
  {
   "cell_type": "code",
   "execution_count": 1,
   "id": "d2c4b1aa-bb36-4580-a892-6ae4a8242dc1",
   "metadata": {},
   "outputs": [],
   "source": [
    "#Step 1: Retrieving Data\n",
    "from sklearn import datasets, model_selection\n",
    "from sklearn.linear_model import LogisticRegression\n",
    "from sklearn.pipeline import make_pipeline\n",
    "from sklearn.preprocessing import StandardScaler\n",
    "import matplotlib.pyplot as plt\n",
    "%matplotlib inline"
   ]
  },
  {
   "cell_type": "code",
   "execution_count": 2,
   "id": "5e1654f4-11ba-4db4-9445-778649e06d3b",
   "metadata": {},
   "outputs": [],
   "source": [
    "#Import and Assign Data\n",
    "digits = datasets.load_digits()"
   ]
  },
  {
   "cell_type": "code",
   "execution_count": 3,
   "id": "45c9ae30-064e-4924-b04e-c26945e35683",
   "metadata": {},
   "outputs": [
    {
     "data": {
      "text/plain": [
       "<matplotlib.image.AxesImage at 0x1b573a37070>"
      ]
     },
     "execution_count": 3,
     "metadata": {},
     "output_type": "execute_result"
    },
    {
     "data": {
      "image/png": "[encoded data removed]",
      "text/plain": [
       "<Figure size 360x360 with 1 Axes>"
      ]
     },
     "metadata": {
      "needs_background": "light"
     },
     "output_type": "display_data"
    }
   ],
   "source": [
    "#Plot Figure: EDA I\n",
    "plt.figure(figsize=(5, 5))\n",
    "plt.imshow(digits.images[12], cmap=plt.cm.autumn_r)"
   ]
  },
  {
   "cell_type": "code",
   "execution_count": 4,
   "id": "21d042ab-f60b-441e-9adb-b76b8dd34a1b",
   "metadata": {},
   "outputs": [
    {
     "data": {
      "text/plain": [
       "array([[ 0.,  0.,  5., 12.,  1.,  0.,  0.,  0.],\n",
       "       [ 0.,  0., 15., 14.,  7.,  0.,  0.,  0.],\n",
       "       [ 0.,  0., 13.,  1., 12.,  0.,  0.,  0.],\n",
       "       [ 0.,  2., 10.,  0., 14.,  0.,  0.,  0.],\n",
       "       [ 0.,  0.,  2.,  0., 16.,  1.,  0.,  0.],\n",
       "       [ 0.,  0.,  0.,  6., 15.,  0.,  0.,  0.],\n",
       "       [ 0.,  0.,  9., 16., 15.,  9.,  8.,  2.],\n",
       "       [ 0.,  0.,  3., 11.,  8., 13., 12.,  4.]])"
      ]
     },
     "execution_count": 4,
     "metadata": {},
     "output_type": "execute_result"
    }
   ],
   "source": [
    "#Feature Understanding\n",
    "digits.images[12]"
   ]
  },
  {
   "cell_type": "code",
   "execution_count": 5,
   "id": "27cb9e6b-27df-44fa-ba3e-df21a593ee4f",
   "metadata": {},
   "outputs": [],
   "source": [
    "# Split Dataset:Target & Predictors\n",
    "X_digits = digits.data\n",
    "y_digits = digits.target"
   ]
  },
  {
   "cell_type": "code",
   "execution_count": 6,
   "id": "0a3121cd-dc14-4249-8536-1d5d4e893310",
   "metadata": {},
   "outputs": [
    {
     "data": {
      "text/plain": [
       "1797"
      ]
     },
     "execution_count": 6,
     "metadata": {},
     "output_type": "execute_result"
    }
   ],
   "source": [
    "#Extract the number of data points(length of X)\n",
    "num_data_points = len(X_digits)\n",
    "num_data_points"
   ]
  },
  {
   "cell_type": "code",
   "execution_count": 7,
   "id": "5c06c4e5-4d73-451a-b865-d691f23e022f",
   "metadata": {},
   "outputs": [],
   "source": [
    "#Split: Train (70) & Test (30)\n",
    "X_train, X_test, y_train,  y_test = model_selection.train_test_split(X_digits, y_digits, test_size=0.3)"
   ]
  },
  {
   "cell_type": "code",
   "execution_count": 8,
   "id": "e26eb0ec-99be-4941-8f97-787a923df2d6",
   "metadata": {},
   "outputs": [
    {
     "name": "stdout",
     "output_type": "stream",
     "text": [
      "(1257, 64) (540, 64)\n"
     ]
    }
   ],
   "source": [
    "#Check data points\n",
    "print(X_train.shape, X_test.shape)"
   ]
  },
  {
   "cell_type": "code",
   "execution_count": 9,
   "id": "4244eb8c-d0e2-4901-8e43-2ac28a78ef47",
   "metadata": {},
   "outputs": [],
   "source": [
    "pipe = make_pipeline(StandardScaler(), LogisticRegression())"
   ]
  },
  {
   "cell_type": "code",
   "execution_count": 10,
   "id": "a1169df7-5a5c-4a1d-81dd-2eb362298bb1",
   "metadata": {},
   "outputs": [
    {
     "data": {
      "text/plain": [
       "Pipeline(steps=[('standardscaler', StandardScaler()),\n",
       "                ('logisticregression', LogisticRegression())])"
      ]
     },
     "execution_count": 10,
     "metadata": {},
     "output_type": "execute_result"
    }
   ],
   "source": [
    "pipe.fit(X_train, y_train)  # apply scaling on training data"
   ]
  },
  {
   "cell_type": "code",
   "execution_count": 11,
   "id": "ad559e8c-2b2f-41f3-83cc-9aaa3f8f2b64",
   "metadata": {},
   "outputs": [
    {
     "data": {
      "text/plain": [
       "0.9814814814814815"
      ]
     },
     "execution_count": 11,
     "metadata": {},
     "output_type": "execute_result"
    }
   ],
   "source": [
    "pipe.score(X_test, y_test) "
   ]
  }
 ],
 "metadata": {
  "kernelspec": {
   "display_name": "Python 3 (ipykernel)",
   "language": "python",
   "name": "python3"
  },
  "language_info": {
   "codemirror_mode": {
    "name": "ipython",
    "version": 3
   },
   "file_extension": ".py",
   "mimetype": "text/x-python",
   "name": "python",
   "nbconvert_exporter": "python",
   "pygments_lexer": "ipython3",
   "version": "3.9.5"
  }
 },
 "nbformat": 4,
 "nbformat_minor": 5
}
